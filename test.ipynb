{
 "cells": [
  {
   "cell_type": "code",
   "execution_count": null,
   "id": "5849b463",
   "metadata": {},
   "outputs": [],
   "source": [
    "import MetaTrader5 as mt5\n",
    "\n",
    "symbol = \"EURUSD.r\"  # ← użyj poprawnej nazwy z listy brokerów\n",
    "\n",
    "if not mt5.initialize():\n",
    "    print(\"❌ Błąd inicjalizacji MT5:\", mt5.last_error())\n",
    "    quit()\n",
    "\n",
    "tick = mt5.symbol_info_tick(symbol)\n",
    "if tick is None:\n",
    "    print(f\"❌ Brak ticków dla symbolu: {symbol}\")\n",
    "    quit()\n",
    "\n",
    "print(\"Aktualna cena ASK:\", tick.ask)"
   ]
  }
 ],
 "metadata": {
  "kernelspec": {
   "display_name": "base",
   "language": "python",
   "name": "python3"
  },
  "language_info": {
   "name": "python",
   "version": "3.10.8"
  }
 },
 "nbformat": 4,
 "nbformat_minor": 5
}
